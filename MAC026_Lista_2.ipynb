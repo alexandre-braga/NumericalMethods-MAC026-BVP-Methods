{
  "nbformat": 4,
  "nbformat_minor": 0,
  "metadata": {
    "colab": {
      "name": "MAC026 - Lista 2.ipynb",
      "provenance": [],
      "collapsed_sections": [],
      "include_colab_link": true
    },
    "kernelspec": {
      "name": "python3",
      "display_name": "Python 3"
    },
    "language_info": {
      "name": "python"
    }
  },
  "cells": [
    {
      "cell_type": "markdown",
      "metadata": {
        "id": "view-in-github",
        "colab_type": "text"
      },
      "source": [
        "<a href=\"https://colab.research.google.com/github/alexandre-braga/NumericalMethods-MAC026-BVP-Methods/blob/main/MAC026_Lista_2.ipynb\" target=\"_parent\"><img src=\"https://colab.research.google.com/assets/colab-badge.svg\" alt=\"Open In Colab\"/></a>"
      ]
    },
    {
      "cell_type": "code",
      "execution_count": 1,
      "metadata": {
        "id": "pFiGQsN2ZnBr"
      },
      "outputs": [],
      "source": [
        "import numpy as np\n",
        "import matplotlib.pyplot as plt"
      ]
    },
    {
      "cell_type": "markdown",
      "source": [
        "Define funções:\n"
      ],
      "metadata": {
        "id": "cjQ8ODyxzk4m"
      }
    },
    {
      "cell_type": "code",
      "source": [
        "def somatorio(x,t,alpha,m,L):\n",
        "  sum_total = 0\n",
        "  for nn in range(1, 1000):\n",
        "      lam = (2*nn-1)*np.pi/(2*L)\n",
        "      sum_total += ((-1)**(nn+1))/(2*nn-1) * np.exp(-alpha*(lam**2)*t) * np.cos(lam * x)\n",
        "  return sum_total\n",
        "\n",
        "def exata(x,t,alpha,m,L):\n",
        "  sum = somatorio(x,t,alpha,m,L)\n",
        "  result = (800/np.pi)*sum\n",
        "  return result\n",
        "\n",
        "def f(x,t):\n",
        "  return 0\n",
        "\n",
        "def phix(x,u):\n",
        "  return 200"
      ],
      "metadata": {
        "id": "QzvnkqafzkQa"
      },
      "execution_count": 2,
      "outputs": []
    },
    {
      "cell_type": "markdown",
      "source": [
        "####Definição do Problema:"
      ],
      "metadata": {
        "id": "Wn3oFdYEDC6P"
      }
    },
    {
      "cell_type": "markdown",
      "source": [
        "Domínio Espacial/Temporal:"
      ],
      "metadata": {
        "id": "f9cFmAJ7zo60"
      }
    },
    {
      "cell_type": "code",
      "source": [
        "# Dados do problema\n",
        "L = 0.02\n",
        "kappa = 10\n",
        "rhoc = 10**7\n",
        "\n",
        "# Dominio espacial\n",
        "xi = 0\n",
        "xf = L\n",
        "nel = 5\n",
        "\n",
        "# Dominio temporal\n",
        "ti = 0\n",
        "tf = 80\n",
        "#tf = 100\n",
        "#tf = 120\n",
        "\n",
        "# Espaçamento entre os elementos espacial e temporal\n",
        "h = (xf-xi)/nel\n",
        "h2 = h*h\n",
        "dt = 1\n",
        "#dt = 0.1"
      ],
      "metadata": {
        "id": "KYfPUQ-FZ67Y"
      },
      "execution_count": 3,
      "outputs": []
    },
    {
      "cell_type": "markdown",
      "source": [
        "Calculo do coeficiente difusivo:"
      ],
      "metadata": {
        "id": "twTHRO7bzslT"
      }
    },
    {
      "cell_type": "code",
      "source": [
        "# Coeficiente difusivo\n",
        "alpha = kappa/rhoc\n",
        "r = alpha*dt/h2\n",
        "\n",
        "print('delta x =', h)\n",
        "print('delta t =', dt)\n",
        "print('r =', r)\n",
        "print(2*alpha)\n",
        "print(h2)\n",
        "print(h2/(2*alpha))"
      ],
      "metadata": {
        "colab": {
          "base_uri": "https://localhost:8080/"
        },
        "id": "PAWQN4tRyJCL",
        "outputId": "efe639a8-e77e-4860-d369-da0d5bf5d68a"
      },
      "execution_count": 4,
      "outputs": [
        {
          "output_type": "stream",
          "name": "stdout",
          "text": [
            "delta x = 0.004\n",
            "delta t = 1\n",
            "r = 0.0625\n",
            "2e-06\n",
            "1.6e-05\n",
            "8.0\n"
          ]
        }
      ]
    },
    {
      "cell_type": "markdown",
      "source": [
        "Malha espacial e temporal:"
      ],
      "metadata": {
        "id": "ouBqYbFX0rhy"
      }
    },
    {
      "cell_type": "code",
      "source": [
        "J = nel+1\n",
        "N = int(tf/dt)+1\n",
        "x_grid = np.array([j*h for j in range(J)])\n",
        "t_grid = np.array([n*dt for n in range(N)])"
      ],
      "metadata": {
        "id": "qM33FAPGbUFq"
      },
      "execution_count": 5,
      "outputs": []
    },
    {
      "cell_type": "markdown",
      "source": [
        "####Definição das Matrizes:"
      ],
      "metadata": {
        "id": "Xb2JG5XEC1e5"
      }
    },
    {
      "cell_type": "markdown",
      "source": [
        "Define matriz tridiagonal, A e B"
      ],
      "metadata": {
        "id": "UxDLxlA00uug"
      }
    },
    {
      "cell_type": "code",
      "source": [
        "def tridiag(diag_lower, main_diag, diag_upper, k1=-1, k2=0, k3=1):\n",
        "    return np.diag(diag_lower, k1) + np.diag(main_diag, k2) + np.diag(diag_upper, k3)\n",
        "\n",
        "A = np.zeros((N-2,N-2))\n",
        "AImp = np.zeros((N-2,N-2))\n",
        "B = np.zeros((N-2,N-2))\n",
        "b = np.zeros((N-2))"
      ],
      "metadata": {
        "id": "wvaL5a1ng0NX"
      },
      "execution_count": 6,
      "outputs": []
    },
    {
      "cell_type": "markdown",
      "source": [
        "Define Matriz A (Imp):"
      ],
      "metadata": {
        "id": "Tt9-sFucBtac"
      }
    },
    {
      "cell_type": "code",
      "source": [
        "subAImp = np.array([-r for i in range(J-3)])\n",
        "mainAImp = np.array([1 + 2*r for i in range(J-2)])\n",
        "AImp = tridiag(subAImp, mainAImp, subAImp)\n",
        "\n",
        "print(AImp)"
      ],
      "metadata": {
        "colab": {
          "base_uri": "https://localhost:8080/"
        },
        "id": "9ts_4fdCBst9",
        "outputId": "5075a7be-4dad-49eb-9dba-5944266b12ec"
      },
      "execution_count": 7,
      "outputs": [
        {
          "output_type": "stream",
          "name": "stdout",
          "text": [
            "[[ 1.125  -0.0625  0.      0.    ]\n",
            " [-0.0625  1.125  -0.0625  0.    ]\n",
            " [ 0.     -0.0625  1.125  -0.0625]\n",
            " [ 0.      0.     -0.0625  1.125 ]]\n"
          ]
        }
      ]
    },
    {
      "cell_type": "markdown",
      "source": [
        "Define Matriz A (CN):"
      ],
      "metadata": {
        "id": "VUmjAsLf0Mky"
      }
    },
    {
      "cell_type": "code",
      "source": [
        "subA = np.array([-r for i in range(J-3)])\n",
        "mainA = np.array([2 + 2*r for i in range(J-2)])\n",
        "A = tridiag(subA, mainA, subA)\n",
        "\n",
        "print(A)"
      ],
      "metadata": {
        "colab": {
          "base_uri": "https://localhost:8080/"
        },
        "id": "2WIcMiRtmZCh",
        "outputId": "d9e04e50-9987-4fb7-ee3d-8e6b4a43d5c5"
      },
      "execution_count": 8,
      "outputs": [
        {
          "output_type": "stream",
          "name": "stdout",
          "text": [
            "[[ 2.125  -0.0625  0.      0.    ]\n",
            " [-0.0625  2.125  -0.0625  0.    ]\n",
            " [ 0.     -0.0625  2.125  -0.0625]\n",
            " [ 0.      0.     -0.0625  2.125 ]]\n"
          ]
        }
      ]
    },
    {
      "cell_type": "markdown",
      "source": [
        "Define Matriz B (CN):"
      ],
      "metadata": {
        "id": "Y8e5XCz64WcZ"
      }
    },
    {
      "cell_type": "code",
      "source": [
        "subB = np.array([r for i in range(J-3)])\n",
        "mainB = np.array([2 - 2*r for i in range(J-2)])\n",
        "B = tridiag(subB, mainB, subB)\n",
        "\n",
        "print(B)"
      ],
      "metadata": {
        "colab": {
          "base_uri": "https://localhost:8080/"
        },
        "id": "1rqqx1K8jDM6",
        "outputId": "2feb6364-77fd-4b0d-fb65-7abc1223f642"
      },
      "execution_count": 9,
      "outputs": [
        {
          "output_type": "stream",
          "name": "stdout",
          "text": [
            "[[1.875  0.0625 0.     0.    ]\n",
            " [0.0625 1.875  0.0625 0.    ]\n",
            " [0.     0.0625 1.875  0.0625]\n",
            " [0.     0.     0.0625 1.875 ]]\n"
          ]
        }
      ]
    },
    {
      "cell_type": "markdown",
      "source": [
        "Define Matriz B (Exp):"
      ],
      "metadata": {
        "id": "q-VjjmQfFoIb"
      }
    },
    {
      "cell_type": "code",
      "source": [
        "subBExp = np.array([r for i in range(J-3)])\n",
        "mainBExp = np.array([1 - 2*r for i in range(J-2)])\n",
        "BExp = tridiag(subBExp, mainBExp, subBExp)\n",
        "\n",
        "print(BExp)"
      ],
      "metadata": {
        "colab": {
          "base_uri": "https://localhost:8080/"
        },
        "id": "sMlnhYbyFn4l",
        "outputId": "c1e2294d-5c61-4f68-d14d-80a0a5c06d1c"
      },
      "execution_count": 10,
      "outputs": [
        {
          "output_type": "stream",
          "name": "stdout",
          "text": [
            "[[0.875  0.0625 0.     0.    ]\n",
            " [0.0625 0.875  0.0625 0.    ]\n",
            " [0.     0.0625 0.875  0.0625]\n",
            " [0.     0.     0.0625 0.875 ]]\n"
          ]
        }
      ]
    },
    {
      "cell_type": "markdown",
      "source": [
        "####Contribuição da Cond de Contorno Entrada (Neumman):"
      ],
      "metadata": {
        "id": "mXUTI_DH4X5T"
      }
    },
    {
      "cell_type": "code",
      "source": [
        "mainA[0] = 2 + r\n",
        "mainAImp[0] = 1 + r\n",
        "\n",
        "A = tridiag(subA, mainA, subA)\n",
        "AImp = tridiag(subAImp, mainAImp, subAImp)\n",
        "\n",
        "mainB[0] = 2 - r\n",
        "mainBExp[0] = 1 - r\n",
        "\n",
        "B = tridiag(subB, mainB, subB)\n",
        "BExp = tridiag(subBExp, mainBExp, subBExp)\n",
        "\n",
        "print(A)\n",
        "print(AImp)\n",
        "print(B)\n",
        "print(BExp)"
      ],
      "metadata": {
        "colab": {
          "base_uri": "https://localhost:8080/"
        },
        "id": "zliAgmY63TH7",
        "outputId": "078f9201-5f5f-4e0b-d934-889b6645bdae"
      },
      "execution_count": 11,
      "outputs": [
        {
          "output_type": "stream",
          "name": "stdout",
          "text": [
            "[[ 2.0625 -0.0625  0.      0.    ]\n",
            " [-0.0625  2.125  -0.0625  0.    ]\n",
            " [ 0.     -0.0625  2.125  -0.0625]\n",
            " [ 0.      0.     -0.0625  2.125 ]]\n",
            "[[ 1.0625 -0.0625  0.      0.    ]\n",
            " [-0.0625  1.125  -0.0625  0.    ]\n",
            " [ 0.     -0.0625  1.125  -0.0625]\n",
            " [ 0.      0.     -0.0625  1.125 ]]\n",
            "[[1.9375 0.0625 0.     0.    ]\n",
            " [0.0625 1.875  0.0625 0.    ]\n",
            " [0.     0.0625 1.875  0.0625]\n",
            " [0.     0.     0.0625 1.875 ]]\n",
            "[[0.9375 0.0625 0.     0.    ]\n",
            " [0.0625 0.875  0.0625 0.    ]\n",
            " [0.     0.0625 0.875  0.0625]\n",
            " [0.     0.     0.0625 0.875 ]]\n"
          ]
        }
      ]
    },
    {
      "cell_type": "markdown",
      "source": [
        "####Cálculo de $u$:"
      ],
      "metadata": {
        "id": "otfqmIUf5OXo"
      }
    },
    {
      "cell_type": "markdown",
      "source": [
        "#####Explícito"
      ],
      "metadata": {
        "id": "VJCxJT19FVG0"
      }
    },
    {
      "cell_type": "markdown",
      "source": [
        "$$T_i^{n+1} = BT_i^n$$\n",
        "Com $T_i^{n} = u_i^{j}$\n",
        "$$u_i^{j+1} = B u_i^j$$"
      ],
      "metadata": {
        "id": "alZMMQv8FXeM"
      }
    },
    {
      "cell_type": "code",
      "source": [
        "uExp = np.zeros(shape=(J, N))\n",
        "\n",
        "# Phix\n",
        "uExp[:,0] = 200\n",
        "\n",
        "# Condicoes de contorno de Dirichlet Saída\n",
        "uExp[-1,:] = 0\n",
        "\n",
        "for n in range(N-1):\n",
        "    uExp[1:-1,n+1] = BExp.dot(uExp[1:-1,n])\n",
        "    uExp[0,n+1] = uExp[1,n+1]\n",
        "print(uExp[:,-1])"
      ],
      "metadata": {
        "colab": {
          "base_uri": "https://localhost:8080/"
        },
        "id": "oO2mqO2YGJH1",
        "outputId": "76634b2e-e628-4ee7-bc77-00884ed2b25c"
      },
      "execution_count": 12,
      "outputs": [
        {
          "output_type": "stream",
          "name": "stdout",
          "text": [
            "[135.12067575 135.12067575 119.15853931  88.82434549  47.44113682\n",
            "   0.        ]\n"
          ]
        }
      ]
    },
    {
      "cell_type": "markdown",
      "source": [
        "#####Implícito"
      ],
      "metadata": {
        "id": "JNkKf-sODIuJ"
      }
    },
    {
      "cell_type": "markdown",
      "source": [
        "$$A_{Imp}T_i^{n+1} = T_i^n$$\n",
        "Com $T_i^{n} = u_i^{j}$\n",
        "$$u_i^{j+1} = A_{Imp}^T \\cdot u_i^j$$"
      ],
      "metadata": {
        "id": "Y1U4V-1bDKu4"
      }
    },
    {
      "cell_type": "code",
      "source": [
        "uImp = np.zeros(shape=(J, N))\n",
        "\n",
        "# Phix\n",
        "uImp[:,0] = 200\n",
        "\n",
        "# Condicoes de contorno de Dirichlet Saída\n",
        "uImp[-1,:] = 0\n",
        "\n",
        "for n in range(N-1):\n",
        "    uImp[1:-1,n+1] = np.linalg.solve(AImp, uImp[1:-1,n])\n",
        "    uImp[0,n+1] = uImp[1,n+1]\n",
        "print(uImp[:,-1])"
      ],
      "metadata": {
        "colab": {
          "base_uri": "https://localhost:8080/"
        },
        "id": "EXrJdK-4DXA1",
        "outputId": "6971ac71-2165-4064-ee6c-9376169f2140"
      },
      "execution_count": 13,
      "outputs": [
        {
          "output_type": "stream",
          "name": "stdout",
          "text": [
            "[135.59815973 135.59815973 119.70104472  89.36747232  47.79641029\n",
            "   0.        ]\n"
          ]
        }
      ]
    },
    {
      "cell_type": "markdown",
      "source": [
        "#####Crank-Nicholson"
      ],
      "metadata": {
        "id": "3KZg0HbfCvCx"
      }
    },
    {
      "cell_type": "markdown",
      "source": [
        "$$AT_i^{n+1} = BT_i^n$$\n",
        "Com $T_i^{n} = u_i^{j}$\n",
        "$$u_i^{j+1} = A^T \\cdot B u_i^j$$"
      ],
      "metadata": {
        "id": "XuJ0BLSYJvfU"
      }
    },
    {
      "cell_type": "code",
      "source": [
        "uCN = np.zeros(shape=(J, N))\n",
        "\n",
        "# Phix\n",
        "uCN[:,0] = 200\n",
        "\n",
        "# Condicoes de contorno de Dirichlet Saída\n",
        "uCN[-1,:] = 0\n",
        "\n",
        "for n in range(N-1):\n",
        "    uCN[1:-1,n+1] = np.linalg.solve(A, B.dot(uCN[1:-1,n]))\n",
        "    uCN[0,n+1] = uCN[1,n+1]\n",
        "print(uCN[:,-1])"
      ],
      "metadata": {
        "colab": {
          "base_uri": "https://localhost:8080/"
        },
        "id": "ZKl30nqmuSUr",
        "outputId": "e9bd7398-2d5b-4aa1-cc14-6f1d451ed45f"
      },
      "execution_count": 14,
      "outputs": [
        {
          "output_type": "stream",
          "name": "stdout",
          "text": [
            "[135.36346081 135.36346081 119.4305861   89.09318221  47.61567516\n",
            "   0.        ]\n"
          ]
        }
      ]
    },
    {
      "cell_type": "markdown",
      "source": [
        "####Cálculo da Exata e Plotagem:"
      ],
      "metadata": {
        "id": "OjYPT2rL1hXF"
      }
    },
    {
      "cell_type": "code",
      "source": [
        "xx = np.linspace(xi,xf,J)\n",
        "exataxx = np.zeros(J)\n",
        "for i in range(J):\n",
        "  exataxx[i] = exata(xx[i],tf,alpha,nel,L)\n",
        "print(exataxx)"
      ],
      "metadata": {
        "colab": {
          "base_uri": "https://localhost:8080/"
        },
        "id": "5wtChjGv1RES",
        "outputId": "6df74251-32f5-4d13-a0a6-ec0ece727022"
      },
      "execution_count": 15,
      "outputs": [
        {
          "output_type": "stream",
          "name": "stdout",
          "text": [
            "[1.54462321e+02 1.47265437e+02 1.26080214e+02 9.23293043e+01\n",
            " 4.88496120e+01 9.70306061e-15]\n"
          ]
        }
      ]
    },
    {
      "cell_type": "code",
      "source": [
        "fig1, ax1 = plt.subplots(figsize=(10, 6))\n",
        "fig2, ax2 = plt.subplots(figsize=(10, 6))\n",
        "fig3, ax3 = plt.subplots(figsize=(10, 6))\n",
        "\n",
        "ax1.plot(xx,uCN[:,-1], 'go', label='Crank-Nicolson')\n",
        "ax1.plot(xx,exataxx, label='Exata')\n",
        "ax2.plot(xx,uImp[:,-1], 'r^', label='Implicito')\n",
        "ax2.plot(xx,exataxx, label='Exata')\n",
        "ax3.plot(xx,uExp[:,-1], 'bs', label='Explicito')\n",
        "ax3.plot(xx,exataxx, label='Exata')\n",
        "\n",
        "ax1.legend()\n",
        "ax1.set_title(\"Crank-Nicolson: Tempo final %d\" %tf + \" Malha com %d Pontos\" %nel + \" e Passo de tempo %.1f\" %dt)\n",
        "ax2.legend()\n",
        "ax2.set_title(\"Euler Implícito: Tempo final %d\" %tf + \" Malha com %d Pontos\" %nel + \" e Passo de tempo %.1f\" %dt)\n",
        "ax3.legend()\n",
        "ax3.set_title(\"Euler Explícito: Tempo final %d\" %tf + \" Malha com %d Pontos\" %nel + \" e Passo de tempo %.1f\" %dt)\n",
        "\n",
        "fig1.show()\n",
        "fig2.show()\n",
        "fig3.show()"
      ],
      "metadata": {
        "id": "u1GfZ_8Cvu_L",
        "colab": {
          "base_uri": "https://localhost:8080/",
          "height": 1000
        },
        "outputId": "daf2d316-a64d-478f-a5a7-63f07a75f958"
      },
      "execution_count": 16,
      "outputs": [
        {
          "output_type": "display_data",
          "data": {
            "text/plain": [
              "<Figure size 720x432 with 1 Axes>"
            ],
            "image/png": "[encoded data removed]"
          },
          "metadata": {
            "needs_background": "light"
          }
        },
        {
          "output_type": "display_data",
          "data": {
            "text/plain": [
              "<Figure size 720x432 with 1 Axes>"
            ],
            "image/png": "[encoded data removed]"
          },
          "metadata": {
            "needs_background": "light"
          }
        },
        {
          "output_type": "display_data",
          "data": {
            "text/plain": [
              "<Figure size 720x432 with 1 Axes>"
            ],
            "image/png": "[encoded data removed]"
          },
          "metadata": {
            "needs_background": "light"
          }
        }
      ]
    }
  ]
}